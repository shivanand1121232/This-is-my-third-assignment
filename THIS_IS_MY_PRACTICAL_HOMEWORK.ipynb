{
  "nbformat": 4,
  "nbformat_minor": 0,
  "metadata": {
    "colab": {
      "provenance": []
    },
    "kernelspec": {
      "name": "python3",
      "display_name": "Python 3"
    },
    "language_info": {
      "name": "python"
    }
  },
  "cells": [
    {
      "cell_type": "code",
      "execution_count": null,
      "metadata": {
        "id": "4XysnFzrKGkY"
      },
      "outputs": [],
      "source": [
        "# Write a Python function that takes a list of numbers as input and returns the sum of all even numbers in the list"
      ]
    },
    {
      "cell_type": "code",
      "source": [
        "def sum_(a):\n",
        "  s = 0\n",
        "  for i in a:\n",
        "    s += i\n",
        "  return s"
      ],
      "metadata": {
        "id": "y_BGwL3iNO1F"
      },
      "execution_count": null,
      "outputs": []
    },
    {
      "cell_type": "code",
      "source": [
        "sum_([2,4,6,8,10,12])"
      ],
      "metadata": {
        "colab": {
          "base_uri": "https://localhost:8080/"
        },
        "id": "bn9Bszi9Nzsw",
        "outputId": "37f1264d-28ce-40f9-e3d7-92c961e322a6"
      },
      "execution_count": null,
      "outputs": [
        {
          "output_type": "execute_result",
          "data": {
            "text/plain": [
              "42"
            ]
          },
          "metadata": {},
          "execution_count": 11
        }
      ]
    },
    {
      "cell_type": "code",
      "source": [
        "#. Create a Python function that accepts a string and returns the reverse of that string."
      ],
      "metadata": {
        "id": "RfMq2OlYOBsa"
      },
      "execution_count": null,
      "outputs": []
    },
    {
      "cell_type": "code",
      "source": [
        "a = (\"shiv\",True,False,(3+5j),\"orange\")"
      ],
      "metadata": {
        "id": "P9BaLQGpOKtT"
      },
      "execution_count": null,
      "outputs": []
    },
    {
      "cell_type": "code",
      "source": [
        "a"
      ],
      "metadata": {
        "colab": {
          "base_uri": "https://localhost:8080/"
        },
        "id": "P5RwIBeOQXy1",
        "outputId": "64e0c589-b92b-4c3e-e4a9-ae1a8543237b"
      },
      "execution_count": null,
      "outputs": [
        {
          "output_type": "execute_result",
          "data": {
            "text/plain": [
              "('shiv', True, False, (3+5j), 'orange')"
            ]
          },
          "metadata": {},
          "execution_count": 40
        }
      ]
    },
    {
      "cell_type": "code",
      "source": [
        "a[::-1]"
      ],
      "metadata": {
        "colab": {
          "base_uri": "https://localhost:8080/"
        },
        "id": "1JS-5tTuRO2X",
        "outputId": "ba667680-692c-4d6f-a035-bc7b230b5b5b"
      },
      "execution_count": null,
      "outputs": [
        {
          "output_type": "execute_result",
          "data": {
            "text/plain": [
              "('orange', (3+5j), False, True, 'shiv')"
            ]
          },
          "metadata": {},
          "execution_count": 41
        }
      ]
    },
    {
      "cell_type": "code",
      "source": [
        "#. Implement a Python function that takes a list of integers and returns a new list containing the squares of each number"
      ],
      "metadata": {
        "id": "vidJUyAXRTf_"
      },
      "execution_count": null,
      "outputs": []
    },
    {
      "cell_type": "code",
      "source": [
        "num = [1,2,3,4,5,6,7,8,9]\n",
        "square = []\n",
        "nums = [squr*squr for squr in num]\n",
        "print(nums)"
      ],
      "metadata": {
        "colab": {
          "base_uri": "https://localhost:8080/"
        },
        "id": "O_JZ0JA9TaOL",
        "outputId": "37e73bef-df84-4b44-dc71-bf043f74460b"
      },
      "execution_count": null,
      "outputs": [
        {
          "output_type": "stream",
          "name": "stdout",
          "text": [
            "[1, 4, 9, 16, 25, 36, 49, 64, 81]\n"
          ]
        }
      ]
    },
    {
      "cell_type": "code",
      "source": [
        "#. Write a Python function that checks if a given number is prime or not from 1 to 200."
      ],
      "metadata": {
        "id": "3X07R-c0T-Rs"
      },
      "execution_count": null,
      "outputs": []
    },
    {
      "cell_type": "code",
      "source": [
        "def is_prime(n):\n",
        "  if n<=i:\n",
        "    for i in range(2,int(n**0.5)+i):\n",
        "      if n %i ==0:\n",
        "        return False\n",
        "    return True\n",
        "    #check all number from 1 to 200 for num in range(1,201)\n",
        "    if is_prime(num):\n",
        "      print(f\"{num}is a prime number\")\n",
        "    else:\n",
        "      print(f\"{num}is not a prime number\")"
      ],
      "metadata": {
        "id": "gXK-tjtjU0OP"
      },
      "execution_count": null,
      "outputs": []
    },
    {
      "cell_type": "markdown",
      "source": [
        "#Create an iterator class in Python that generates the Fibonacci sequence up to a specified number of  term"
      ],
      "metadata": {
        "id": "P7eMqbIJYDlE"
      }
    },
    {
      "cell_type": "code",
      "source": [
        "class FibonacciIterator:\n",
        "   #def_init_(self.n):\n",
        "    #    self.n = n\n",
        "     #   self.a, self.b = 0, 1\n",
        "      #  self.count = 0\n",
        "\n",
        "    #def __iter__(self):\n",
        "     #   return self\n",
        "\n",
        "    #def __next__(self):\n",
        "    #    if self.count >= self.n:\n",
        "     #       raise StopIteration\n",
        "\n",
        "      #  self.a, self.b = self.b, self.a + self.b\n",
        "       # self.count += 1\n",
        "        #return self.a\n",
        "output : 0,1,1,2,3,5,8,13,21,34, for the first 10 fibonocci"
      ],
      "metadata": {
        "id": "ZGeP--ZXXlr7"
      },
      "execution_count": null,
      "outputs": []
    },
    {
      "cell_type": "code",
      "source": [
        "#. Write a Python program that uses `map()` to convert a list of temperatures from Celsius to Fahrenheit."
      ],
      "metadata": {
        "id": "bw-PtQ_QXn1N"
      },
      "execution_count": null,
      "outputs": []
    },
    {
      "cell_type": "code",
      "source": [
        "celsius = 30\n",
        "f\"{celsius} is equal to {(celsius *9/5)+32}f\""
      ],
      "metadata": {
        "colab": {
          "base_uri": "https://localhost:8080/",
          "height": 35
        },
        "id": "pnwM1O0YY0Rg",
        "outputId": "8eaf0402-e9e6-4fbd-ce1c-f0d2820d8bd9"
      },
      "execution_count": null,
      "outputs": [
        {
          "output_type": "execute_result",
          "data": {
            "text/plain": [
              "'30 is equal to 86.0f'"
            ],
            "application/vnd.google.colaboratory.intrinsic+json": {
              "type": "string"
            }
          },
          "metadata": {},
          "execution_count": 70
        }
      ]
    },
    {
      "cell_type": "code",
      "source": [
        "#. Create a Python program that uses `filter()` to remove all the vowels from a given string."
      ],
      "metadata": {
        "id": "_S869ZCQZTyw"
      },
      "execution_count": null,
      "outputs": []
    },
    {
      "cell_type": "code",
      "source": [
        "str=input(\"Enter string\")\n",
        "vowel_string=\"aeiouAEIOU\"\n",
        "print(\"Input string\",str)\n",
        "\n",
        "for char in str:\n",
        "  if char in vowel_String:\n",
        "    str=str.replace(char,\"\")\n",
        "print(\"output String without vowels\",str)"
      ],
      "metadata": {
        "colab": {
          "base_uri": "https://localhost:8080/"
        },
        "id": "XatRwwA1bkfZ",
        "outputId": "2fc79558-1f2c-4229-d20f-8b72b31a0c18"
      },
      "execution_count": null,
      "outputs": [
        {
          "output_type": "stream",
          "name": "stdout",
          "text": [
            "Enter string WELCOME\n",
            "Input string  WELCOME\n",
            "output string without vowels  WLCM\n"
          ]
        }
      ]
    },
    {
      "cell_type": "code",
      "source": [
        "#. Use a lambda function in Python to sort a list of tuples based on the second element of each tuple"
      ],
      "metadata": {
        "id": "1icNUZSUeUrc"
      },
      "execution_count": null,
      "outputs": []
    },
    {
      "cell_type": "code",
      "source": [
        "\n",
        "List = [['A',26],['B',21],['C',20],['D',1]]\n",
        "for i in range(0, len(list)):\n",
        "  for j in range(0, len(list)-1):\n",
        "    if (list[j][i] > list[j+1][1]):\n",
        "      temp = list[j]\n",
        "      list[j] = list[j+1]\n",
        "      list[j+1] = temp\n",
        "print(list)"
      ],
      "metadata": {
        "colab": {
          "base_uri": "https://localhost:8080/"
        },
        "id": "cf-BphipfVU3",
        "outputId": "8a92a5fd-8c2f-43c3-f473-2a0924509bd5"
      },
      "execution_count": null,
      "outputs": [
        {
          "output_type": "stream",
          "name": "stdout",
          "text": [
            "()\n"
          ]
        }
      ]
    },
    {
      "cell_type": "code",
      "source": [
        "list"
      ],
      "metadata": {
        "colab": {
          "base_uri": "https://localhost:8080/"
        },
        "id": "PF9S39ufgwVW",
        "outputId": "38818ca9-4180-47c8-9039-810dee5fcf51"
      },
      "execution_count": null,
      "outputs": [
        {
          "output_type": "execute_result",
          "data": {
            "text/plain": [
              "()"
            ]
          },
          "metadata": {},
          "execution_count": 92
        }
      ]
    },
    {
      "cell_type": "code",
      "source": [
        "# Imagine an accounting routine used in a book shop. It works on a list with sublists, which look like this:\n",
        "\n",
        "\n",
        "\n",
        "\n",
        "\n",
        "\n",
        "\n",
        "#Write a Python program, which returns a list with 2-tuples. Each tuple consists of the order number and the product of the price per item and the quantity. The product should be increased by 10,- € if the value of the order in smaller than 100,00."
      ],
      "metadata": {
        "id": "kbEajkcahD9_"
      },
      "execution_count": null,
      "outputs": []
    },
    {
      "cell_type": "code",
      "source": [
        "#sample list of order:[order_number,price_per_item,quantity]\n",
        "order = [[34587,4,40.95],[98762.5,56.80],[77226,3,32.95],[88112,3,24.99]]\n",
        "\n",
        " #lambda fuction to calculate the adjusted total value\n",
        " adjust_order_value = lambda order: (order[0],order[1]*order[2] +10 if order[1] *order [2] <100 else 0)\n",
        "\n",
        "\n",
        " # use map( to apply the lambda function to each order)\n",
        " result = list(map(adjust_order_value,order))\n",
        "  print(result)\n",
        "  #ooutput : [(34587,0),(98762,0),(77226,108.8500000000001),(88112,84.97)]"
      ],
      "metadata": {
        "id": "Jc3094EimoMK"
      },
      "execution_count": null,
      "outputs": []
    },
    {
      "cell_type": "markdown",
      "source": [],
      "metadata": {
        "id": "IkTq8NPmyrR5"
      }
    },
    {
      "cell_type": "code",
      "source": [
        "#. Implement a generator function that reads a file line by line and yields each line as a string.\n",
        "\n",
        "\n",
        "# ANS : def power_of_two(exponent):\n",
        "#for i in range(exponent+1):\n",
        "#yield 2**i\n",
        "#for i in power_of_two(5):\n",
        "#print(i)\n",
        "#output : 1,2,4,8,16,32"
      ],
      "metadata": {
        "id": "6wYW4UphmRRY"
      },
      "execution_count": null,
      "outputs": []
    },
    {
      "cell_type": "code",
      "source": [
        "#. Write a Python function that checks if a given number is prime or not from 1 to 200."
      ],
      "metadata": {
        "id": "sSquC_GxnMTr"
      },
      "execution_count": 2,
      "outputs": []
    },
    {
      "cell_type": "code",
      "source": [
        "def check_prime(n):\n",
        "    if n <= 1:\n",
        "        return False\n",
        "    for i in range(2, int(n**0.5) + 1):\n",
        "        if n % i == 0:\n",
        "            return False\n",
        "    return True\n",
        "\n",
        "print(\"Prime numbers between 1 and 200:\")\n",
        "for num in range(1, 201):\n",
        "    if check_prime(num):\n",
        "        print(num, end=\" \")\n",
        "\n",
        "# Output:\n",
        "# Prime numbers between 1 and 200:\n",
        "# 2 3 5 7 11 13 17 19 23 29 31 37 41 43 47 53 59 61 67 71 73 79 83 89 97 101 103\n",
        "107 109 113 127 131 137 139 149 151 157 163 167 173 179 181 191 193 197 199"
      ],
      "metadata": {
        "id": "fgNoHRfYoNK0"
      },
      "execution_count": null,
      "outputs": []
    }
  ]
}